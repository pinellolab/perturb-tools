{
  "cells": [
    {
      "cell_type": "markdown",
      "metadata": {
        "id": "yu3hFm9zhKK7"
      },
      "source": [
        "[![Open In Colab](https://colab.research.google.com/assets/colab-badge.svg)](https://colab.research.google.com/drive/19Ovond7ubh360J4AzI6RJEPbAK6nEfyk)"
      ]
    },
    {
      "cell_type": "markdown",
      "metadata": {
        "id": "5fG7ceNYLZv9"
      },
      "source": [
        "# CRISPR screen analysis with Perturb-tools"
      ]
    },
    {
      "cell_type": "markdown",
      "metadata": {
        "id": "2dSlbT_ZMU72"
      },
      "source": [
        "In this tutorial, we will cover\n",
        "*  Loading three .csv files each about guide, sample, and guide count information into single Screen object\n",
        "*  Slicing (indexing) Screen object to subset/select guides and samples\n",
        "*  Adding Screen object to combine technical replicates\n",
        "*  Concatenating Screen object to combine biological replicates\n",
        "*  Normalize and calculate log fold change of guides across two different conditions\n",
        "*  Writing Screen object to .h5ad or .xlsx file"
      ]
    },
    {
      "cell_type": "code",
      "execution_count": 1,
      "metadata": {
        "colab": {
          "base_uri": "https://localhost:8080/"
        },
        "id": "f1QwiBs_rrg0",
        "outputId": "0443a7e2-c949-469d-bc9f-5befa936ef49"
      },
      "outputs": [],
      "source": [
        "#! pip install perturb-tools==0.1.5"
      ]
    },
    {
      "cell_type": "code",
      "execution_count": 2,
      "metadata": {
        "id": "FMmOwwSXJQxm"
      },
      "outputs": [],
      "source": [
        "import pandas as pd\n",
        "import perturb_tools as pt"
      ]
    },
    {
      "cell_type": "markdown",
      "metadata": {
        "id": "-O0OyBI3uQ12"
      },
      "source": [
        "We will download public CRISPR/Cas9 Knock-out dataset: [TKO](http://tko.ccbr.utoronto.ca/) HeLa data."
      ]
    },
    {
      "cell_type": "code",
      "execution_count": 3,
      "metadata": {
        "colab": {
          "base_uri": "https://localhost:8080/"
        },
        "id": "qQCbMhXLZ7pT",
        "outputId": "caccba79-068a-4ae2-faff-ed6f74867e22"
      },
      "outputs": [],
      "source": [
        "# ! wget http://tko.ccbr.utoronto.ca/Data/readcount-HeLa-lib1.gz\n",
        "# ! wget http://tko.ccbr.utoronto.ca/Data/readcount-HeLa-lib2.gz\n",
        "# ! gunzip readcount-HeLa-lib1.gz -y\n",
        "# ! gunzip readcount-HeLa-lib2.gz -y"
      ]
    },
    {
      "cell_type": "code",
      "execution_count": 4,
      "metadata": {
        "id": "K3Ni8NqBOTbw"
      },
      "outputs": [],
      "source": [
        "# !cut -f 1,2 readcount-HeLa-lib1 > guide_info-HeLa-lib1.tsv\n",
        "# !cut -f 1,3- readcount-HeLa-lib1 > guide_count-HeLa-lib1.tsv\n",
        "# !cut -f 1,2 readcount-HeLa-lib2 > guide_info-HeLa-lib2.tsv\n",
        "# !cut -f 1,3- readcount-HeLa-lib2 > guide_count-HeLa-lib2.tsv"
      ]
    },
    {
      "cell_type": "markdown",
      "metadata": {
        "id": "XutmLKQ6N5eR"
      },
      "source": [
        "# Loading text file to Screen object"
      ]
    },
    {
      "cell_type": "markdown",
      "metadata": {
        "id": "iNjuoVS_Rz9i"
      },
      "source": [
        "Basic structure of Screen object contains 3 types of information:\n",
        "*  `Screen.X`: guide count matrix (numpy array with shape (n_guides, n_samples)\n",
        "*  `Screen.guides`: guide RNA information ex) sequence, target element (pandas DataFrame with length n_guides)\n",
        "*  `Screen.samples`: sample information that gave rise to the guide counts (pandas DataFrame with length n_samples)\n",
        "\n",
        "You can construct Screen object using any number of these three elements."
      ]
    },
    {
      "cell_type": "code",
      "execution_count": 5,
      "metadata": {
        "colab": {
          "base_uri": "https://localhost:8080/"
        },
        "id": "tRgJXSCkSm6j",
        "outputId": "8f59d583-43ee-427a-a2af-a9c6c065a0de"
      },
      "outputs": [
        {
          "name": "stderr",
          "output_type": "stream",
          "text": [
            "/data/pinello/SHARED_SOFTWARE/anaconda_latest/envs/jy_anbe_py38/lib/python3.8/site-packages/anndata/_core/anndata.py:121: ImplicitModificationWarning: Transforming to str index.\n",
            "  warnings.warn(\"Transforming to str index.\", ImplicitModificationWarning)\n"
          ]
        }
      ],
      "source": [
        "screen = pt.read_csv(X_path=\"guide_count-HeLa-lib1.tsv\", guides_path=\"guide_info-HeLa-lib1.tsv\", samples_path=None, sep=\"\\t\")"
      ]
    },
    {
      "cell_type": "code",
      "execution_count": 6,
      "metadata": {
        "colab": {
          "base_uri": "https://localhost:8080/"
        },
        "id": "eCzxXvuVUXRO",
        "outputId": "4bcf557f-8fd5-46e9-897c-7c50c9d4ab34"
      },
      "outputs": [
        {
          "data": {
            "text/plain": [
              "array([[310, 226, 338, ...,  49, 296, 469],\n",
              "       [ 46,   1,   0, ...,   1,  52, 213],\n",
              "       [239, 216, 285, ..., 250, 269, 363],\n",
              "       ...,\n",
              "       [508, 479, 248, ..., 331, 386, 566],\n",
              "       [ 97,  50,  10, ...,  28,  23,   3],\n",
              "       [ 91, 115, 130, ...,  76, 120, 390]])"
            ]
          },
          "execution_count": 6,
          "metadata": {},
          "output_type": "execute_result"
        }
      ],
      "source": [
        "screen.X"
      ]
    },
    {
      "cell_type": "markdown",
      "metadata": {
        "id": "2QH6R_gQfia1"
      },
      "source": [
        "Alternatively, you can manually read the file and initialize Screen object."
      ]
    },
    {
      "cell_type": "code",
      "execution_count": 7,
      "metadata": {
        "id": "PBk5uxU0bO77"
      },
      "outputs": [],
      "source": [
        "tbl = pd.read_csv(\"readcount-HeLa-lib1\", sep = \"\\t\")\n",
        "tbl2 = pd.read_csv(\"readcount-HeLa-lib2\", sep = \"\\t\")"
      ]
    },
    {
      "cell_type": "code",
      "execution_count": 8,
      "metadata": {},
      "outputs": [
        {
          "data": {
            "text/html": [
              "<div>\n",
              "<style scoped>\n",
              "    .dataframe tbody tr th:only-of-type {\n",
              "        vertical-align: middle;\n",
              "    }\n",
              "\n",
              "    .dataframe tbody tr th {\n",
              "        vertical-align: top;\n",
              "    }\n",
              "\n",
              "    .dataframe thead th {\n",
              "        text-align: right;\n",
              "    }\n",
              "</style>\n",
              "<table border=\"1\" class=\"dataframe\">\n",
              "  <thead>\n",
              "    <tr style=\"text-align: right;\">\n",
              "      <th></th>\n",
              "      <th>GENE_CLONE</th>\n",
              "      <th>GENE</th>\n",
              "      <th>T08A</th>\n",
              "      <th>T08B</th>\n",
              "      <th>T08C</th>\n",
              "      <th>T12A</th>\n",
              "      <th>T12B</th>\n",
              "      <th>T12C</th>\n",
              "      <th>T15A</th>\n",
              "      <th>T15B</th>\n",
              "      <th>T15C</th>\n",
              "      <th>T18A</th>\n",
              "      <th>T18B</th>\n",
              "      <th>T18C</th>\n",
              "      <th>T0</th>\n",
              "    </tr>\n",
              "  </thead>\n",
              "  <tbody>\n",
              "    <tr>\n",
              "      <th>0</th>\n",
              "      <td>A1BG_CACCTTCGAGCTGCTGCGCG</td>\n",
              "      <td>A1BG</td>\n",
              "      <td>310</td>\n",
              "      <td>226</td>\n",
              "      <td>338</td>\n",
              "      <td>356</td>\n",
              "      <td>249</td>\n",
              "      <td>224</td>\n",
              "      <td>186</td>\n",
              "      <td>60</td>\n",
              "      <td>296</td>\n",
              "      <td>125</td>\n",
              "      <td>49</td>\n",
              "      <td>296</td>\n",
              "      <td>469</td>\n",
              "    </tr>\n",
              "    <tr>\n",
              "      <th>1</th>\n",
              "      <td>A1BG_AAGAGCGCCTCGGTCCCAGC</td>\n",
              "      <td>A1BG</td>\n",
              "      <td>46</td>\n",
              "      <td>1</td>\n",
              "      <td>0</td>\n",
              "      <td>7</td>\n",
              "      <td>22</td>\n",
              "      <td>142</td>\n",
              "      <td>0</td>\n",
              "      <td>1</td>\n",
              "      <td>52</td>\n",
              "      <td>0</td>\n",
              "      <td>1</td>\n",
              "      <td>52</td>\n",
              "      <td>213</td>\n",
              "    </tr>\n",
              "    <tr>\n",
              "      <th>2</th>\n",
              "      <td>A1BG_TGGACTTCCAGCTACGGCGC</td>\n",
              "      <td>A1BG</td>\n",
              "      <td>239</td>\n",
              "      <td>216</td>\n",
              "      <td>285</td>\n",
              "      <td>117</td>\n",
              "      <td>244</td>\n",
              "      <td>116</td>\n",
              "      <td>172</td>\n",
              "      <td>298</td>\n",
              "      <td>269</td>\n",
              "      <td>119</td>\n",
              "      <td>250</td>\n",
              "      <td>269</td>\n",
              "      <td>363</td>\n",
              "    </tr>\n",
              "    <tr>\n",
              "      <th>3</th>\n",
              "      <td>A1BG_CACTGGCGCCATCGAGAGCC</td>\n",
              "      <td>A1BG</td>\n",
              "      <td>289</td>\n",
              "      <td>83</td>\n",
              "      <td>166</td>\n",
              "      <td>164</td>\n",
              "      <td>111</td>\n",
              "      <td>14</td>\n",
              "      <td>184</td>\n",
              "      <td>160</td>\n",
              "      <td>214</td>\n",
              "      <td>122</td>\n",
              "      <td>137</td>\n",
              "      <td>214</td>\n",
              "      <td>678</td>\n",
              "    </tr>\n",
              "    <tr>\n",
              "      <th>4</th>\n",
              "      <td>A1BG_GCTCGGGCTTGTCCACAGGA</td>\n",
              "      <td>A1BG</td>\n",
              "      <td>205</td>\n",
              "      <td>34</td>\n",
              "      <td>217</td>\n",
              "      <td>205</td>\n",
              "      <td>148</td>\n",
              "      <td>355</td>\n",
              "      <td>326</td>\n",
              "      <td>100</td>\n",
              "      <td>432</td>\n",
              "      <td>212</td>\n",
              "      <td>85</td>\n",
              "      <td>432</td>\n",
              "      <td>559</td>\n",
              "    </tr>\n",
              "    <tr>\n",
              "      <th>...</th>\n",
              "      <td>...</td>\n",
              "      <td>...</td>\n",
              "      <td>...</td>\n",
              "      <td>...</td>\n",
              "      <td>...</td>\n",
              "      <td>...</td>\n",
              "      <td>...</td>\n",
              "      <td>...</td>\n",
              "      <td>...</td>\n",
              "      <td>...</td>\n",
              "      <td>...</td>\n",
              "      <td>...</td>\n",
              "      <td>...</td>\n",
              "      <td>...</td>\n",
              "      <td>...</td>\n",
              "    </tr>\n",
              "    <tr>\n",
              "      <th>91315</th>\n",
              "      <td>luciferase_CCTCTAGAGGATGGAACCGC</td>\n",
              "      <td>luciferase</td>\n",
              "      <td>153</td>\n",
              "      <td>101</td>\n",
              "      <td>264</td>\n",
              "      <td>121</td>\n",
              "      <td>155</td>\n",
              "      <td>317</td>\n",
              "      <td>245</td>\n",
              "      <td>103</td>\n",
              "      <td>490</td>\n",
              "      <td>165</td>\n",
              "      <td>88</td>\n",
              "      <td>490</td>\n",
              "      <td>200</td>\n",
              "    </tr>\n",
              "    <tr>\n",
              "      <th>91316</th>\n",
              "      <td>luciferase_ACAACTTTACCGACCGCGCC</td>\n",
              "      <td>luciferase</td>\n",
              "      <td>159</td>\n",
              "      <td>101</td>\n",
              "      <td>152</td>\n",
              "      <td>363</td>\n",
              "      <td>232</td>\n",
              "      <td>412</td>\n",
              "      <td>216</td>\n",
              "      <td>441</td>\n",
              "      <td>248</td>\n",
              "      <td>159</td>\n",
              "      <td>378</td>\n",
              "      <td>248</td>\n",
              "      <td>170</td>\n",
              "    </tr>\n",
              "    <tr>\n",
              "      <th>91317</th>\n",
              "      <td>luciferase_CTTGTCGTATCCCTGGAAGA</td>\n",
              "      <td>luciferase</td>\n",
              "      <td>508</td>\n",
              "      <td>479</td>\n",
              "      <td>248</td>\n",
              "      <td>206</td>\n",
              "      <td>294</td>\n",
              "      <td>631</td>\n",
              "      <td>421</td>\n",
              "      <td>394</td>\n",
              "      <td>386</td>\n",
              "      <td>270</td>\n",
              "      <td>331</td>\n",
              "      <td>386</td>\n",
              "      <td>566</td>\n",
              "    </tr>\n",
              "    <tr>\n",
              "      <th>91318</th>\n",
              "      <td>luciferase_GGCTATGAAGAGATACGCCC</td>\n",
              "      <td>luciferase</td>\n",
              "      <td>97</td>\n",
              "      <td>50</td>\n",
              "      <td>10</td>\n",
              "      <td>0</td>\n",
              "      <td>14</td>\n",
              "      <td>61</td>\n",
              "      <td>29</td>\n",
              "      <td>33</td>\n",
              "      <td>23</td>\n",
              "      <td>19</td>\n",
              "      <td>28</td>\n",
              "      <td>23</td>\n",
              "      <td>3</td>\n",
              "    </tr>\n",
              "    <tr>\n",
              "      <th>91319</th>\n",
              "      <td>luciferase_GGCATGCGAGAATCTGACGC</td>\n",
              "      <td>luciferase</td>\n",
              "      <td>91</td>\n",
              "      <td>115</td>\n",
              "      <td>130</td>\n",
              "      <td>218</td>\n",
              "      <td>60</td>\n",
              "      <td>54</td>\n",
              "      <td>5</td>\n",
              "      <td>88</td>\n",
              "      <td>120</td>\n",
              "      <td>4</td>\n",
              "      <td>76</td>\n",
              "      <td>120</td>\n",
              "      <td>390</td>\n",
              "    </tr>\n",
              "  </tbody>\n",
              "</table>\n",
              "<p>91320 rows × 15 columns</p>\n",
              "</div>"
            ],
            "text/plain": [
              "                            GENE_CLONE        GENE  T08A  T08B  T08C  T12A  \\\n",
              "0            A1BG_CACCTTCGAGCTGCTGCGCG        A1BG   310   226   338   356   \n",
              "1            A1BG_AAGAGCGCCTCGGTCCCAGC        A1BG    46     1     0     7   \n",
              "2            A1BG_TGGACTTCCAGCTACGGCGC        A1BG   239   216   285   117   \n",
              "3            A1BG_CACTGGCGCCATCGAGAGCC        A1BG   289    83   166   164   \n",
              "4            A1BG_GCTCGGGCTTGTCCACAGGA        A1BG   205    34   217   205   \n",
              "...                                ...         ...   ...   ...   ...   ...   \n",
              "91315  luciferase_CCTCTAGAGGATGGAACCGC  luciferase   153   101   264   121   \n",
              "91316  luciferase_ACAACTTTACCGACCGCGCC  luciferase   159   101   152   363   \n",
              "91317  luciferase_CTTGTCGTATCCCTGGAAGA  luciferase   508   479   248   206   \n",
              "91318  luciferase_GGCTATGAAGAGATACGCCC  luciferase    97    50    10     0   \n",
              "91319  luciferase_GGCATGCGAGAATCTGACGC  luciferase    91   115   130   218   \n",
              "\n",
              "       T12B  T12C  T15A  T15B  T15C  T18A  T18B  T18C   T0  \n",
              "0       249   224   186    60   296   125    49   296  469  \n",
              "1        22   142     0     1    52     0     1    52  213  \n",
              "2       244   116   172   298   269   119   250   269  363  \n",
              "3       111    14   184   160   214   122   137   214  678  \n",
              "4       148   355   326   100   432   212    85   432  559  \n",
              "...     ...   ...   ...   ...   ...   ...   ...   ...  ...  \n",
              "91315   155   317   245   103   490   165    88   490  200  \n",
              "91316   232   412   216   441   248   159   378   248  170  \n",
              "91317   294   631   421   394   386   270   331   386  566  \n",
              "91318    14    61    29    33    23    19    28    23    3  \n",
              "91319    60    54     5    88   120     4    76   120  390  \n",
              "\n",
              "[91320 rows x 15 columns]"
            ]
          },
          "execution_count": 8,
          "metadata": {},
          "output_type": "execute_result"
        }
      ],
      "source": [
        "tbl"
      ]
    },
    {
      "cell_type": "code",
      "execution_count": 9,
      "metadata": {},
      "outputs": [
        {
          "data": {
            "text/html": [
              "<div>\n",
              "<style scoped>\n",
              "    .dataframe tbody tr th:only-of-type {\n",
              "        vertical-align: middle;\n",
              "    }\n",
              "\n",
              "    .dataframe tbody tr th {\n",
              "        vertical-align: top;\n",
              "    }\n",
              "\n",
              "    .dataframe thead th {\n",
              "        text-align: right;\n",
              "    }\n",
              "</style>\n",
              "<table border=\"1\" class=\"dataframe\">\n",
              "  <thead>\n",
              "    <tr style=\"text-align: right;\">\n",
              "      <th></th>\n",
              "    </tr>\n",
              "    <tr>\n",
              "      <th>index</th>\n",
              "    </tr>\n",
              "  </thead>\n",
              "  <tbody>\n",
              "    <tr>\n",
              "      <th>T08A</th>\n",
              "    </tr>\n",
              "    <tr>\n",
              "      <th>T08B</th>\n",
              "    </tr>\n",
              "    <tr>\n",
              "      <th>T08C</th>\n",
              "    </tr>\n",
              "    <tr>\n",
              "      <th>T12A</th>\n",
              "    </tr>\n",
              "    <tr>\n",
              "      <th>T12B</th>\n",
              "    </tr>\n",
              "    <tr>\n",
              "      <th>T12C</th>\n",
              "    </tr>\n",
              "    <tr>\n",
              "      <th>T15A</th>\n",
              "    </tr>\n",
              "    <tr>\n",
              "      <th>T15B</th>\n",
              "    </tr>\n",
              "    <tr>\n",
              "      <th>T15C</th>\n",
              "    </tr>\n",
              "    <tr>\n",
              "      <th>T18A</th>\n",
              "    </tr>\n",
              "    <tr>\n",
              "      <th>T18B</th>\n",
              "    </tr>\n",
              "    <tr>\n",
              "      <th>T18C</th>\n",
              "    </tr>\n",
              "    <tr>\n",
              "      <th>T0</th>\n",
              "    </tr>\n",
              "  </tbody>\n",
              "</table>\n",
              "</div>"
            ],
            "text/plain": [
              "Empty DataFrame\n",
              "Columns: []\n",
              "Index: [T08A, T08B, T08C, T12A, T12B, T12C, T15A, T15B, T15C, T18A, T18B, T18C, T0]"
            ]
          },
          "execution_count": 9,
          "metadata": {},
          "output_type": "execute_result"
        }
      ],
      "source": [
        "pd.DataFrame(tbl.columns[2:]).rename(columns={0:\"index\"}).set_index(\"index\")"
      ]
    },
    {
      "cell_type": "code",
      "execution_count": 10,
      "metadata": {},
      "outputs": [],
      "source": [
        "sample_df = pd.DataFrame(tbl.columns[2:]).rename(columns={0:\"index\"}).set_index(\"index\")"
      ]
    },
    {
      "cell_type": "code",
      "execution_count": 11,
      "metadata": {},
      "outputs": [
        {
          "data": {
            "text/plain": [
              "Index(['A', 'B', 'C', 'A', 'B', 'C', 'A', 'B', 'C', 'A', 'B', 'C', '0'], dtype='object', name='index')"
            ]
          },
          "execution_count": 11,
          "metadata": {},
          "output_type": "execute_result"
        }
      ],
      "source": [
        "sample_df.index.str[-1]"
      ]
    },
    {
      "cell_type": "code",
      "execution_count": 12,
      "metadata": {},
      "outputs": [],
      "source": [
        "sample_df['time'] = sample_df.index.to_series().str[1:-1].map(lambda s: int(s) if s else -1)"
      ]
    },
    {
      "cell_type": "code",
      "execution_count": 13,
      "metadata": {},
      "outputs": [
        {
          "data": {
            "text/html": [
              "<div>\n",
              "<style scoped>\n",
              "    .dataframe tbody tr th:only-of-type {\n",
              "        vertical-align: middle;\n",
              "    }\n",
              "\n",
              "    .dataframe tbody tr th {\n",
              "        vertical-align: top;\n",
              "    }\n",
              "\n",
              "    .dataframe thead th {\n",
              "        text-align: right;\n",
              "    }\n",
              "</style>\n",
              "<table border=\"1\" class=\"dataframe\">\n",
              "  <thead>\n",
              "    <tr style=\"text-align: right;\">\n",
              "      <th></th>\n",
              "      <th>time</th>\n",
              "    </tr>\n",
              "    <tr>\n",
              "      <th>index</th>\n",
              "      <th></th>\n",
              "    </tr>\n",
              "  </thead>\n",
              "  <tbody>\n",
              "    <tr>\n",
              "      <th>T08A</th>\n",
              "      <td>8</td>\n",
              "    </tr>\n",
              "    <tr>\n",
              "      <th>T08B</th>\n",
              "      <td>8</td>\n",
              "    </tr>\n",
              "    <tr>\n",
              "      <th>T08C</th>\n",
              "      <td>8</td>\n",
              "    </tr>\n",
              "    <tr>\n",
              "      <th>T12A</th>\n",
              "      <td>12</td>\n",
              "    </tr>\n",
              "    <tr>\n",
              "      <th>T12B</th>\n",
              "      <td>12</td>\n",
              "    </tr>\n",
              "    <tr>\n",
              "      <th>T12C</th>\n",
              "      <td>12</td>\n",
              "    </tr>\n",
              "    <tr>\n",
              "      <th>T15A</th>\n",
              "      <td>15</td>\n",
              "    </tr>\n",
              "    <tr>\n",
              "      <th>T15B</th>\n",
              "      <td>15</td>\n",
              "    </tr>\n",
              "    <tr>\n",
              "      <th>T15C</th>\n",
              "      <td>15</td>\n",
              "    </tr>\n",
              "    <tr>\n",
              "      <th>T18A</th>\n",
              "      <td>18</td>\n",
              "    </tr>\n",
              "    <tr>\n",
              "      <th>T18B</th>\n",
              "      <td>18</td>\n",
              "    </tr>\n",
              "    <tr>\n",
              "      <th>T18C</th>\n",
              "      <td>18</td>\n",
              "    </tr>\n",
              "    <tr>\n",
              "      <th>T0</th>\n",
              "      <td>-1</td>\n",
              "    </tr>\n",
              "  </tbody>\n",
              "</table>\n",
              "</div>"
            ],
            "text/plain": [
              "       time\n",
              "index      \n",
              "T08A      8\n",
              "T08B      8\n",
              "T08C      8\n",
              "T12A     12\n",
              "T12B     12\n",
              "T12C     12\n",
              "T15A     15\n",
              "T15B     15\n",
              "T15C     15\n",
              "T18A     18\n",
              "T18B     18\n",
              "T18C     18\n",
              "T0       -1"
            ]
          },
          "execution_count": 13,
          "metadata": {},
          "output_type": "execute_result"
        }
      ],
      "source": [
        "sample_df"
      ]
    },
    {
      "cell_type": "code",
      "execution_count": 14,
      "metadata": {
        "id": "zSa-tE0bblMl"
      },
      "outputs": [],
      "source": [
        "def make_screen(tbl, guide_name_col = \"GENE_CLONE\"):\n",
        "  tbl = tbl.rename(columns={guide_name_col:\"name\"}).set_index(\"name\")\n",
        "  sample_df = pd.DataFrame(tbl.columns[1:]).rename(columns={0:\"index\"}).set_index(\"index\")\n",
        "  sample_df[\"replicate\"] = sample_df.index.to_series().str[-1]\n",
        "  sample_df[\"time\"] = sample_df.index.to_series().str[1:-1].map(lambda s: int(s) if s else -1)\n",
        "  print(sample_df)\n",
        "  return pt.Screen(X=tbl.values[:,1:].astype(int), guides=tbl.iloc[:,:2], \n",
        "                  samples=sample_df, \n",
        "                  )"
      ]
    },
    {
      "cell_type": "code",
      "execution_count": 15,
      "metadata": {
        "colab": {
          "base_uri": "https://localhost:8080/"
        },
        "id": "pjOXiYsfbWmd",
        "outputId": "a959d501-e29e-4d87-a346-50008ddab73d"
      },
      "outputs": [
        {
          "name": "stdout",
          "output_type": "stream",
          "text": [
            "      replicate  time\n",
            "index                \n",
            "T08A          A     8\n",
            "T08B          B     8\n",
            "T08C          C     8\n",
            "T12A          A    12\n",
            "T12B          B    12\n",
            "T12C          C    12\n",
            "T15A          A    15\n",
            "T15B          B    15\n",
            "T15C          C    15\n",
            "T18A          A    18\n",
            "T18B          B    18\n",
            "T18C          C    18\n",
            "T0            0    -1\n",
            "      replicate  time\n",
            "index                \n",
            "T08A          A     8\n",
            "T08B          B     8\n",
            "T08C          C     8\n",
            "T12A          A    12\n",
            "T12B          B    12\n",
            "T12C          C    12\n",
            "T15A          A    15\n",
            "T15B          B    15\n",
            "T15C          C    15\n",
            "T18A          A    18\n",
            "T18B          B    18\n",
            "T18C          C    18\n",
            "T0            0    -1\n"
          ]
        }
      ],
      "source": [
        "adata = make_screen(tbl)\n",
        "bdata = make_screen(tbl2)"
      ]
    },
    {
      "cell_type": "code",
      "execution_count": 16,
      "metadata": {
        "colab": {
          "base_uri": "https://localhost:8080/",
          "height": 423
        },
        "id": "zyK1KKh_k83l",
        "outputId": "22fbb8df-2c76-4946-9c06-2f78148c9c78"
      },
      "outputs": [
        {
          "data": {
            "text/html": [
              "<div>\n",
              "<style scoped>\n",
              "    .dataframe tbody tr th:only-of-type {\n",
              "        vertical-align: middle;\n",
              "    }\n",
              "\n",
              "    .dataframe tbody tr th {\n",
              "        vertical-align: top;\n",
              "    }\n",
              "\n",
              "    .dataframe thead th {\n",
              "        text-align: right;\n",
              "    }\n",
              "</style>\n",
              "<table border=\"1\" class=\"dataframe\">\n",
              "  <thead>\n",
              "    <tr style=\"text-align: right;\">\n",
              "      <th></th>\n",
              "      <th>GENE</th>\n",
              "      <th>T08A</th>\n",
              "    </tr>\n",
              "    <tr>\n",
              "      <th>name</th>\n",
              "      <th></th>\n",
              "      <th></th>\n",
              "    </tr>\n",
              "  </thead>\n",
              "  <tbody>\n",
              "    <tr>\n",
              "      <th>A1BG_CACCTTCGAGCTGCTGCGCG</th>\n",
              "      <td>A1BG</td>\n",
              "      <td>310</td>\n",
              "    </tr>\n",
              "    <tr>\n",
              "      <th>A1BG_AAGAGCGCCTCGGTCCCAGC</th>\n",
              "      <td>A1BG</td>\n",
              "      <td>46</td>\n",
              "    </tr>\n",
              "    <tr>\n",
              "      <th>A1BG_TGGACTTCCAGCTACGGCGC</th>\n",
              "      <td>A1BG</td>\n",
              "      <td>239</td>\n",
              "    </tr>\n",
              "    <tr>\n",
              "      <th>A1BG_CACTGGCGCCATCGAGAGCC</th>\n",
              "      <td>A1BG</td>\n",
              "      <td>289</td>\n",
              "    </tr>\n",
              "    <tr>\n",
              "      <th>A1BG_GCTCGGGCTTGTCCACAGGA</th>\n",
              "      <td>A1BG</td>\n",
              "      <td>205</td>\n",
              "    </tr>\n",
              "    <tr>\n",
              "      <th>...</th>\n",
              "      <td>...</td>\n",
              "      <td>...</td>\n",
              "    </tr>\n",
              "    <tr>\n",
              "      <th>luciferase_CCTCTAGAGGATGGAACCGC</th>\n",
              "      <td>luciferase</td>\n",
              "      <td>153</td>\n",
              "    </tr>\n",
              "    <tr>\n",
              "      <th>luciferase_ACAACTTTACCGACCGCGCC</th>\n",
              "      <td>luciferase</td>\n",
              "      <td>159</td>\n",
              "    </tr>\n",
              "    <tr>\n",
              "      <th>luciferase_CTTGTCGTATCCCTGGAAGA</th>\n",
              "      <td>luciferase</td>\n",
              "      <td>508</td>\n",
              "    </tr>\n",
              "    <tr>\n",
              "      <th>luciferase_GGCTATGAAGAGATACGCCC</th>\n",
              "      <td>luciferase</td>\n",
              "      <td>97</td>\n",
              "    </tr>\n",
              "    <tr>\n",
              "      <th>luciferase_GGCATGCGAGAATCTGACGC</th>\n",
              "      <td>luciferase</td>\n",
              "      <td>91</td>\n",
              "    </tr>\n",
              "  </tbody>\n",
              "</table>\n",
              "<p>91320 rows × 2 columns</p>\n",
              "</div>"
            ],
            "text/plain": [
              "                                       GENE  T08A\n",
              "name                                             \n",
              "A1BG_CACCTTCGAGCTGCTGCGCG              A1BG   310\n",
              "A1BG_AAGAGCGCCTCGGTCCCAGC              A1BG    46\n",
              "A1BG_TGGACTTCCAGCTACGGCGC              A1BG   239\n",
              "A1BG_CACTGGCGCCATCGAGAGCC              A1BG   289\n",
              "A1BG_GCTCGGGCTTGTCCACAGGA              A1BG   205\n",
              "...                                     ...   ...\n",
              "luciferase_CCTCTAGAGGATGGAACCGC  luciferase   153\n",
              "luciferase_ACAACTTTACCGACCGCGCC  luciferase   159\n",
              "luciferase_CTTGTCGTATCCCTGGAAGA  luciferase   508\n",
              "luciferase_GGCTATGAAGAGATACGCCC  luciferase    97\n",
              "luciferase_GGCATGCGAGAATCTGACGC  luciferase    91\n",
              "\n",
              "[91320 rows x 2 columns]"
            ]
          },
          "execution_count": 16,
          "metadata": {},
          "output_type": "execute_result"
        }
      ],
      "source": [
        "adata.guides"
      ]
    },
    {
      "cell_type": "code",
      "execution_count": 17,
      "metadata": {
        "colab": {
          "base_uri": "https://localhost:8080/",
          "height": 488
        },
        "id": "2KgQdLE8lZdv",
        "outputId": "efdcc451-7e87-4658-be42-c5bd46c25d02"
      },
      "outputs": [
        {
          "data": {
            "text/html": [
              "<div>\n",
              "<style scoped>\n",
              "    .dataframe tbody tr th:only-of-type {\n",
              "        vertical-align: middle;\n",
              "    }\n",
              "\n",
              "    .dataframe tbody tr th {\n",
              "        vertical-align: top;\n",
              "    }\n",
              "\n",
              "    .dataframe thead th {\n",
              "        text-align: right;\n",
              "    }\n",
              "</style>\n",
              "<table border=\"1\" class=\"dataframe\">\n",
              "  <thead>\n",
              "    <tr style=\"text-align: right;\">\n",
              "      <th></th>\n",
              "      <th>replicate</th>\n",
              "      <th>time</th>\n",
              "    </tr>\n",
              "    <tr>\n",
              "      <th>index</th>\n",
              "      <th></th>\n",
              "      <th></th>\n",
              "    </tr>\n",
              "  </thead>\n",
              "  <tbody>\n",
              "    <tr>\n",
              "      <th>T08A</th>\n",
              "      <td>A</td>\n",
              "      <td>8</td>\n",
              "    </tr>\n",
              "    <tr>\n",
              "      <th>T08B</th>\n",
              "      <td>B</td>\n",
              "      <td>8</td>\n",
              "    </tr>\n",
              "    <tr>\n",
              "      <th>T08C</th>\n",
              "      <td>C</td>\n",
              "      <td>8</td>\n",
              "    </tr>\n",
              "    <tr>\n",
              "      <th>T12A</th>\n",
              "      <td>A</td>\n",
              "      <td>12</td>\n",
              "    </tr>\n",
              "    <tr>\n",
              "      <th>T12B</th>\n",
              "      <td>B</td>\n",
              "      <td>12</td>\n",
              "    </tr>\n",
              "    <tr>\n",
              "      <th>T12C</th>\n",
              "      <td>C</td>\n",
              "      <td>12</td>\n",
              "    </tr>\n",
              "    <tr>\n",
              "      <th>T15A</th>\n",
              "      <td>A</td>\n",
              "      <td>15</td>\n",
              "    </tr>\n",
              "    <tr>\n",
              "      <th>T15B</th>\n",
              "      <td>B</td>\n",
              "      <td>15</td>\n",
              "    </tr>\n",
              "    <tr>\n",
              "      <th>T15C</th>\n",
              "      <td>C</td>\n",
              "      <td>15</td>\n",
              "    </tr>\n",
              "    <tr>\n",
              "      <th>T18A</th>\n",
              "      <td>A</td>\n",
              "      <td>18</td>\n",
              "    </tr>\n",
              "    <tr>\n",
              "      <th>T18B</th>\n",
              "      <td>B</td>\n",
              "      <td>18</td>\n",
              "    </tr>\n",
              "    <tr>\n",
              "      <th>T18C</th>\n",
              "      <td>C</td>\n",
              "      <td>18</td>\n",
              "    </tr>\n",
              "    <tr>\n",
              "      <th>T0</th>\n",
              "      <td>0</td>\n",
              "      <td>-1</td>\n",
              "    </tr>\n",
              "  </tbody>\n",
              "</table>\n",
              "</div>"
            ],
            "text/plain": [
              "      replicate  time\n",
              "index                \n",
              "T08A          A     8\n",
              "T08B          B     8\n",
              "T08C          C     8\n",
              "T12A          A    12\n",
              "T12B          B    12\n",
              "T12C          C    12\n",
              "T15A          A    15\n",
              "T15B          B    15\n",
              "T15C          C    15\n",
              "T18A          A    18\n",
              "T18B          B    18\n",
              "T18C          C    18\n",
              "T0            0    -1"
            ]
          },
          "execution_count": 17,
          "metadata": {},
          "output_type": "execute_result"
        }
      ],
      "source": [
        "adata.samples"
      ]
    },
    {
      "cell_type": "markdown",
      "metadata": {
        "id": "fNuGg75plK1Z"
      },
      "source": [
        "### Slicing"
      ]
    },
    {
      "cell_type": "code",
      "execution_count": 18,
      "metadata": {
        "colab": {
          "base_uri": "https://localhost:8080/"
        },
        "id": "L8CYibLed6Z6",
        "outputId": "b163bb2c-21cc-43ee-919c-faae35497118"
      },
      "outputs": [
        {
          "data": {
            "text/plain": [
              "Genome Editing Screen comprised of n_guides x n_conditions = 6 x 13\n",
              "   guides:    'GENE', 'T08A'\n",
              "   samples:   'replicate', 'time'\n",
              "   samples_m: \n",
              "   samples_p: \n",
              "   layers:    \n",
              "   uns:       "
            ]
          },
          "execution_count": 18,
          "metadata": {},
          "output_type": "execute_result"
        }
      ],
      "source": [
        "adata_cut = adata[adata.guides.GENE == \"A1BG\", :]\n",
        "adata_cut"
      ]
    },
    {
      "cell_type": "code",
      "execution_count": 19,
      "metadata": {
        "colab": {
          "base_uri": "https://localhost:8080/"
        },
        "id": "AyQ-e_nlc1x0",
        "outputId": "c162a6cb-3464-45a0-c0c2-e53ef2b11217"
      },
      "outputs": [
        {
          "data": {
            "text/plain": [
              "Genome Editing Screen comprised of n_guides x n_conditions = 91320 x 3\n",
              "   guides:    'GENE', 'T08A'\n",
              "   samples:   'replicate', 'time'\n",
              "   samples_m: \n",
              "   samples_p: \n",
              "   layers:    \n",
              "   uns:       "
            ]
          },
          "execution_count": 19,
          "metadata": {},
          "output_type": "execute_result"
        }
      ],
      "source": [
        "adata_t8 = adata[:, adata.samples.time == 8]\n",
        "adata_t8"
      ]
    },
    {
      "cell_type": "markdown",
      "metadata": {
        "id": "qv1dFsOVllJB"
      },
      "source": [
        "### Writing"
      ]
    },
    {
      "cell_type": "code",
      "execution_count": 20,
      "metadata": {},
      "outputs": [
        {
          "data": {
            "text/plain": [
              "array([[310, 226, 338, ...,  49, 296, 469],\n",
              "       [ 46,   1,   0, ...,   1,  52, 213],\n",
              "       [239, 216, 285, ..., 250, 269, 363],\n",
              "       ...,\n",
              "       [508, 479, 248, ..., 331, 386, 566],\n",
              "       [ 97,  50,  10, ...,  28,  23,   3],\n",
              "       [ 91, 115, 130, ...,  76, 120, 390]])"
            ]
          },
          "execution_count": 20,
          "metadata": {},
          "output_type": "execute_result"
        }
      ],
      "source": [
        "adata.X"
      ]
    },
    {
      "cell_type": "code",
      "execution_count": 21,
      "metadata": {
        "id": "lCw4Wh3ilig2"
      },
      "outputs": [],
      "source": [
        "adata.write(\"./HeLa_lib1.h5ad\")"
      ]
    },
    {
      "cell_type": "code",
      "execution_count": 22,
      "metadata": {
        "id": "T5Yp0AlZNtV3"
      },
      "outputs": [],
      "source": [
        "# import anndata as ad\n",
        "# adata_ann = ad.read_h5ad(\"HeLa_lib1.h5ad\")\n",
        "# adata_pt = pt.Screen.from_adata(adata_ann)"
      ]
    },
    {
      "cell_type": "markdown",
      "metadata": {
        "id": "le-C2smp3W3C"
      },
      "source": [
        "Compatible with .h5ad file output of AnnData."
      ]
    },
    {
      "cell_type": "markdown",
      "metadata": {
        "id": "NPtzel9_3fSd"
      },
      "source": [
        "## Arithmetic"
      ]
    },
    {
      "attachments": {},
      "cell_type": "markdown",
      "metadata": {
        "id": "xuYFQko_3iWk"
      },
      "source": [
        "### Adding\n",
        "If the guides and samples index are exactly the same, objects can be added (ex. technical replicates)."
      ]
    },
    {
      "cell_type": "code",
      "execution_count": 23,
      "metadata": {
        "colab": {
          "base_uri": "https://localhost:8080/"
        },
        "id": "mMzkKcz43a0N",
        "outputId": "08903c0a-b418-488a-d45d-d750f98d6031"
      },
      "outputs": [
        {
          "data": {
            "text/plain": [
              "Genome Editing Screen comprised of n_guides x n_conditions = 91320 x 13\n",
              "   guides:    'GENE', 'T08A'\n",
              "   samples:   'replicate', 'time'\n",
              "   samples_m: \n",
              "   samples_p: \n",
              "   layers:    \n",
              "   uns:       "
            ]
          },
          "execution_count": 23,
          "metadata": {},
          "output_type": "execute_result"
        }
      ],
      "source": [
        "adata + adata"
      ]
    },
    {
      "cell_type": "markdown",
      "metadata": {
        "id": "MOyVP4G53sGM"
      },
      "source": [
        "### Concatenating\n",
        "Biological replicates can be concatenated along 'samples' axis."
      ]
    },
    {
      "cell_type": "code",
      "execution_count": 24,
      "metadata": {},
      "outputs": [
        {
          "data": {
            "text/plain": [
              "<module 'perturb_tools' from '/data/pinello/PROJECTS/2021_08_ANBE/software/perturb-tools/perturb_tools/__init__.py'>"
            ]
          },
          "execution_count": 24,
          "metadata": {},
          "output_type": "execute_result"
        }
      ],
      "source": [
        "import importlib\n",
        "importlib.reload(pt)"
      ]
    },
    {
      "cell_type": "code",
      "execution_count": 25,
      "metadata": {
        "colab": {
          "base_uri": "https://localhost:8080/"
        },
        "id": "OEZgHmPs3qk_",
        "outputId": "3f8e74f8-d1e8-4456-99d6-48d512e5dfd5"
      },
      "outputs": [
        {
          "name": "stderr",
          "output_type": "stream",
          "text": [
            "/data/pinello/SHARED_SOFTWARE/anaconda_latest/envs/jy_anbe_py38/lib/python3.8/site-packages/anndata/_core/anndata.py:1828: UserWarning: Observation names are not unique. To make them unique, call `.obs_names_make_unique`.\n",
            "  utils.warn_names_duplicates(\"obs\")\n"
          ]
        },
        {
          "data": {
            "text/plain": [
              "Genome Editing Screen comprised of n_guides x n_conditions = 182640 x 13\n",
              "   guides:    'GENE', 'T08A'\n",
              "   samples:   \n",
              "   samples_m: \n",
              "   samples_p: \n",
              "   layers:    \n",
              "   uns:       "
            ]
          },
          "execution_count": 25,
          "metadata": {},
          "output_type": "execute_result"
        }
      ],
      "source": [
        "pt.concat((adata, adata))"
      ]
    },
    {
      "cell_type": "markdown",
      "metadata": {
        "id": "m1ksPqAL31cj"
      },
      "source": [
        "## Normalization & LFC calculation"
      ]
    },
    {
      "cell_type": "code",
      "execution_count": 26,
      "metadata": {
        "colab": {
          "base_uri": "https://localhost:8080/"
        },
        "id": "1b1gBlKR34uy",
        "outputId": "ad3d6004-22da-4ccb-e520-ee0b1d6d6568"
      },
      "outputs": [
        {
          "data": {
            "text/plain": [
              "Genome Editing Screen comprised of n_guides x n_conditions = 91320 x 13\n",
              "   guides:    'GENE', 'T08A'\n",
              "   samples:   'replicate', 'time'\n",
              "   samples_m: \n",
              "   samples_p: \n",
              "   layers:    'lognorm_counts'\n",
              "   uns:       "
            ]
          },
          "execution_count": 26,
          "metadata": {},
          "output_type": "execute_result"
        }
      ],
      "source": [
        "adata.log_norm()\n",
        "adata"
      ]
    },
    {
      "cell_type": "code",
      "execution_count": 27,
      "metadata": {
        "colab": {
          "base_uri": "https://localhost:8080/"
        },
        "id": "pYzxbYwHQ7ct",
        "outputId": "e8937a69-22b5-4710-cdb7-8315b85efea5"
      },
      "outputs": [
        {
          "data": {
            "text/plain": [
              "array([[3.83616552, 3.72344557, 4.36367384, ..., 2.09998439, 4.01236793,\n",
              "        3.57526448],\n",
              "       [1.57091719, 0.07590494, 0.        , ..., 0.09367186, 1.87158158,\n",
              "        2.57512434],\n",
              "       [3.4906079 , 3.66320179, 4.13058593, ..., 4.15142457, 3.88332224,\n",
              "        3.24056381],\n",
              "       ...,\n",
              "       [4.50880773, 4.74827466, 3.94220047, ..., 4.53632282, 4.37437528,\n",
              "        3.82558522],\n",
              "       [2.366281  , 1.88795355, 0.65946991, ..., 1.5252234 , 1.1218406 ,\n",
              "        0.09740613],\n",
              "       [2.29249441, 2.85050474, 3.09314233, ..., 2.60840185, 2.8353031 ,\n",
              "        3.33346213]])"
            ]
          },
          "execution_count": 27,
          "metadata": {},
          "output_type": "execute_result"
        }
      ],
      "source": [
        "adata.layers['lognorm_counts']"
      ]
    },
    {
      "cell_type": "markdown",
      "metadata": {
        "id": "04x17ASQ4HgC"
      },
      "source": [
        "Calculating the LFC between T=18 vs T=8"
      ]
    },
    {
      "cell_type": "code",
      "execution_count": 28,
      "metadata": {},
      "outputs": [
        {
          "data": {
            "text/html": [
              "<div>\n",
              "<style scoped>\n",
              "    .dataframe tbody tr th:only-of-type {\n",
              "        vertical-align: middle;\n",
              "    }\n",
              "\n",
              "    .dataframe tbody tr th {\n",
              "        vertical-align: top;\n",
              "    }\n",
              "\n",
              "    .dataframe thead th {\n",
              "        text-align: right;\n",
              "    }\n",
              "</style>\n",
              "<table border=\"1\" class=\"dataframe\">\n",
              "  <thead>\n",
              "    <tr style=\"text-align: right;\">\n",
              "      <th></th>\n",
              "      <th>replicate</th>\n",
              "      <th>time</th>\n",
              "    </tr>\n",
              "    <tr>\n",
              "      <th>index</th>\n",
              "      <th></th>\n",
              "      <th></th>\n",
              "    </tr>\n",
              "  </thead>\n",
              "  <tbody>\n",
              "    <tr>\n",
              "      <th>T08A</th>\n",
              "      <td>A</td>\n",
              "      <td>8</td>\n",
              "    </tr>\n",
              "    <tr>\n",
              "      <th>T08B</th>\n",
              "      <td>B</td>\n",
              "      <td>8</td>\n",
              "    </tr>\n",
              "    <tr>\n",
              "      <th>T08C</th>\n",
              "      <td>C</td>\n",
              "      <td>8</td>\n",
              "    </tr>\n",
              "    <tr>\n",
              "      <th>T12A</th>\n",
              "      <td>A</td>\n",
              "      <td>12</td>\n",
              "    </tr>\n",
              "    <tr>\n",
              "      <th>T12B</th>\n",
              "      <td>B</td>\n",
              "      <td>12</td>\n",
              "    </tr>\n",
              "    <tr>\n",
              "      <th>T12C</th>\n",
              "      <td>C</td>\n",
              "      <td>12</td>\n",
              "    </tr>\n",
              "    <tr>\n",
              "      <th>T15A</th>\n",
              "      <td>A</td>\n",
              "      <td>15</td>\n",
              "    </tr>\n",
              "    <tr>\n",
              "      <th>T15B</th>\n",
              "      <td>B</td>\n",
              "      <td>15</td>\n",
              "    </tr>\n",
              "    <tr>\n",
              "      <th>T15C</th>\n",
              "      <td>C</td>\n",
              "      <td>15</td>\n",
              "    </tr>\n",
              "    <tr>\n",
              "      <th>T18A</th>\n",
              "      <td>A</td>\n",
              "      <td>18</td>\n",
              "    </tr>\n",
              "    <tr>\n",
              "      <th>T18B</th>\n",
              "      <td>B</td>\n",
              "      <td>18</td>\n",
              "    </tr>\n",
              "    <tr>\n",
              "      <th>T18C</th>\n",
              "      <td>C</td>\n",
              "      <td>18</td>\n",
              "    </tr>\n",
              "    <tr>\n",
              "      <th>T0</th>\n",
              "      <td>0</td>\n",
              "      <td>-1</td>\n",
              "    </tr>\n",
              "  </tbody>\n",
              "</table>\n",
              "</div>"
            ],
            "text/plain": [
              "      replicate  time\n",
              "index                \n",
              "T08A          A     8\n",
              "T08B          B     8\n",
              "T08C          C     8\n",
              "T12A          A    12\n",
              "T12B          B    12\n",
              "T12C          C    12\n",
              "T15A          A    15\n",
              "T15B          B    15\n",
              "T15C          C    15\n",
              "T18A          A    18\n",
              "T18B          B    18\n",
              "T18C          C    18\n",
              "T0            0    -1"
            ]
          },
          "execution_count": 28,
          "metadata": {},
          "output_type": "execute_result"
        }
      ],
      "source": [
        "adata.samples"
      ]
    },
    {
      "cell_type": "code",
      "execution_count": 29,
      "metadata": {
        "id": "Ob9VVqJc4jOI"
      },
      "outputs": [],
      "source": [
        "adata.log_fold_change(\"T18A\", \"T08A\")"
      ]
    },
    {
      "cell_type": "code",
      "execution_count": 30,
      "metadata": {
        "colab": {
          "base_uri": "https://localhost:8080/",
          "height": 423
        },
        "id": "1xNJpizMRA-t",
        "outputId": "42dbce42-876e-4caa-e9cb-5be82dcd7067"
      },
      "outputs": [
        {
          "data": {
            "text/html": [
              "<div>\n",
              "<style scoped>\n",
              "    .dataframe tbody tr th:only-of-type {\n",
              "        vertical-align: middle;\n",
              "    }\n",
              "\n",
              "    .dataframe tbody tr th {\n",
              "        vertical-align: top;\n",
              "    }\n",
              "\n",
              "    .dataframe thead th {\n",
              "        text-align: right;\n",
              "    }\n",
              "</style>\n",
              "<table border=\"1\" class=\"dataframe\">\n",
              "  <thead>\n",
              "    <tr style=\"text-align: right;\">\n",
              "      <th></th>\n",
              "      <th>GENE</th>\n",
              "      <th>T08A</th>\n",
              "      <th>T18A_T08A.lfc</th>\n",
              "    </tr>\n",
              "    <tr>\n",
              "      <th>name</th>\n",
              "      <th></th>\n",
              "      <th></th>\n",
              "      <th></th>\n",
              "    </tr>\n",
              "  </thead>\n",
              "  <tbody>\n",
              "    <tr>\n",
              "      <th>A1BG_CACCTTCGAGCTGCTGCGCG</th>\n",
              "      <td>A1BG</td>\n",
              "      <td>310</td>\n",
              "      <td>-0.341628</td>\n",
              "    </tr>\n",
              "    <tr>\n",
              "      <th>A1BG_AAGAGCGCCTCGGTCCCAGC</th>\n",
              "      <td>A1BG</td>\n",
              "      <td>46</td>\n",
              "      <td>-1.570917</td>\n",
              "    </tr>\n",
              "    <tr>\n",
              "      <th>A1BG_TGGACTTCCAGCTACGGCGC</th>\n",
              "      <td>A1BG</td>\n",
              "      <td>239</td>\n",
              "      <td>-0.060598</td>\n",
              "    </tr>\n",
              "    <tr>\n",
              "      <th>A1BG_CACTGGCGCCATCGAGAGCC</th>\n",
              "      <td>A1BG</td>\n",
              "      <td>289</td>\n",
              "      <td>-0.279654</td>\n",
              "    </tr>\n",
              "    <tr>\n",
              "      <th>A1BG_GCTCGGGCTTGTCCACAGGA</th>\n",
              "      <td>A1BG</td>\n",
              "      <td>205</td>\n",
              "      <td>0.912812</td>\n",
              "    </tr>\n",
              "    <tr>\n",
              "      <th>...</th>\n",
              "      <td>...</td>\n",
              "      <td>...</td>\n",
              "      <td>...</td>\n",
              "    </tr>\n",
              "    <tr>\n",
              "      <th>luciferase_CCTCTAGAGGATGGAACCGC</th>\n",
              "      <td>luciferase</td>\n",
              "      <td>153</td>\n",
              "      <td>0.946178</td>\n",
              "    </tr>\n",
              "    <tr>\n",
              "      <th>luciferase_ACAACTTTACCGACCGCGCC</th>\n",
              "      <td>luciferase</td>\n",
              "      <td>159</td>\n",
              "      <td>0.848203</td>\n",
              "    </tr>\n",
              "    <tr>\n",
              "      <th>luciferase_CTTGTCGTATCCCTGGAAGA</th>\n",
              "      <td>luciferase</td>\n",
              "      <td>508</td>\n",
              "      <td>0.026328</td>\n",
              "    </tr>\n",
              "    <tr>\n",
              "      <th>luciferase_GGCTATGAAGAGATACGCCC</th>\n",
              "      <td>luciferase</td>\n",
              "      <td>97</td>\n",
              "      <td>-1.009470</td>\n",
              "    </tr>\n",
              "    <tr>\n",
              "      <th>luciferase_GGCATGCGAGAATCTGACGC</th>\n",
              "      <td>luciferase</td>\n",
              "      <td>91</td>\n",
              "      <td>-1.882511</td>\n",
              "    </tr>\n",
              "  </tbody>\n",
              "</table>\n",
              "<p>91320 rows × 3 columns</p>\n",
              "</div>"
            ],
            "text/plain": [
              "                                       GENE  T08A  T18A_T08A.lfc\n",
              "name                                                            \n",
              "A1BG_CACCTTCGAGCTGCTGCGCG              A1BG   310      -0.341628\n",
              "A1BG_AAGAGCGCCTCGGTCCCAGC              A1BG    46      -1.570917\n",
              "A1BG_TGGACTTCCAGCTACGGCGC              A1BG   239      -0.060598\n",
              "A1BG_CACTGGCGCCATCGAGAGCC              A1BG   289      -0.279654\n",
              "A1BG_GCTCGGGCTTGTCCACAGGA              A1BG   205       0.912812\n",
              "...                                     ...   ...            ...\n",
              "luciferase_CCTCTAGAGGATGGAACCGC  luciferase   153       0.946178\n",
              "luciferase_ACAACTTTACCGACCGCGCC  luciferase   159       0.848203\n",
              "luciferase_CTTGTCGTATCCCTGGAAGA  luciferase   508       0.026328\n",
              "luciferase_GGCTATGAAGAGATACGCCC  luciferase    97      -1.009470\n",
              "luciferase_GGCATGCGAGAATCTGACGC  luciferase    91      -1.882511\n",
              "\n",
              "[91320 rows x 3 columns]"
            ]
          },
          "execution_count": 30,
          "metadata": {},
          "output_type": "execute_result"
        }
      ],
      "source": [
        "adata.guides"
      ]
    },
    {
      "cell_type": "markdown",
      "metadata": {
        "id": "eQniOfh_4zdi"
      },
      "source": [
        "Calculating the T=18 vs T=8 across all replicates"
      ]
    },
    {
      "cell_type": "code",
      "execution_count": 31,
      "metadata": {
        "id": "afAxBGYeRfP-"
      },
      "outputs": [],
      "source": [
        "adata_t = adata[:, adata.samples.replicate != \"0\"]"
      ]
    },
    {
      "cell_type": "code",
      "execution_count": 32,
      "metadata": {},
      "outputs": [
        {
          "data": {
            "text/plain": [
              "Genome Editing Screen comprised of n_guides x n_conditions = 91320 x 13\n",
              "   guides:    'GENE', 'T08A', 'T18A_T08A.lfc'\n",
              "   samples:   'replicate', 'time'\n",
              "   samples_m: \n",
              "   samples_p: \n",
              "   layers:    'lognorm_counts'\n",
              "   uns:       "
            ]
          },
          "execution_count": 32,
          "metadata": {},
          "output_type": "execute_result"
        }
      ],
      "source": [
        "adata"
      ]
    },
    {
      "cell_type": "code",
      "execution_count": 33,
      "metadata": {},
      "outputs": [
        {
          "data": {
            "text/plain": [
              "Genome Editing Screen comprised of n_guides x n_conditions = 91320 x 12\n",
              "   guides:    'GENE', 'T08A', 'T18A_T08A.lfc'\n",
              "   samples:   'replicate', 'time'\n",
              "   samples_m: \n",
              "   samples_p: \n",
              "   layers:    'lognorm_counts'\n",
              "   uns:       "
            ]
          },
          "execution_count": 33,
          "metadata": {},
          "output_type": "execute_result"
        }
      ],
      "source": [
        "adata_t"
      ]
    },
    {
      "cell_type": "code",
      "execution_count": 34,
      "metadata": {
        "colab": {
          "base_uri": "https://localhost:8080/",
          "height": 423
        },
        "id": "3St896ZL4Z-7",
        "outputId": "36ebf72c-e8d7-400f-8b59-3e83ef5bf294"
      },
      "outputs": [
        {
          "data": {
            "text/html": [
              "<div>\n",
              "<style scoped>\n",
              "    .dataframe tbody tr th:only-of-type {\n",
              "        vertical-align: middle;\n",
              "    }\n",
              "\n",
              "    .dataframe tbody tr th {\n",
              "        vertical-align: top;\n",
              "    }\n",
              "\n",
              "    .dataframe thead th {\n",
              "        text-align: right;\n",
              "    }\n",
              "</style>\n",
              "<table border=\"1\" class=\"dataframe\">\n",
              "  <thead>\n",
              "    <tr style=\"text-align: right;\">\n",
              "      <th></th>\n",
              "      <th>A.18_8.lfc</th>\n",
              "      <th>B.18_8.lfc</th>\n",
              "      <th>C.18_8.lfc</th>\n",
              "    </tr>\n",
              "    <tr>\n",
              "      <th>name</th>\n",
              "      <th></th>\n",
              "      <th></th>\n",
              "      <th></th>\n",
              "    </tr>\n",
              "  </thead>\n",
              "  <tbody>\n",
              "    <tr>\n",
              "      <th>A1BG_CACCTTCGAGCTGCTGCGCG</th>\n",
              "      <td>-0.341628</td>\n",
              "      <td>-1.623461</td>\n",
              "      <td>-0.351306</td>\n",
              "    </tr>\n",
              "    <tr>\n",
              "      <th>A1BG_AAGAGCGCCTCGGTCCCAGC</th>\n",
              "      <td>-1.570917</td>\n",
              "      <td>0.017767</td>\n",
              "      <td>1.871582</td>\n",
              "    </tr>\n",
              "    <tr>\n",
              "      <th>A1BG_TGGACTTCCAGCTACGGCGC</th>\n",
              "      <td>-0.060598</td>\n",
              "      <td>0.488223</td>\n",
              "      <td>-0.247264</td>\n",
              "    </tr>\n",
              "    <tr>\n",
              "      <th>A1BG_CACTGGCGCCATCGAGAGCC</th>\n",
              "      <td>-0.279654</td>\n",
              "      <td>0.893945</td>\n",
              "      <td>0.169561</td>\n",
              "    </tr>\n",
              "    <tr>\n",
              "      <th>A1BG_GCTCGGGCTTGTCCACAGGA</th>\n",
              "      <td>0.912812</td>\n",
              "      <td>1.240359</td>\n",
              "      <td>0.766479</td>\n",
              "    </tr>\n",
              "    <tr>\n",
              "      <th>...</th>\n",
              "      <td>...</td>\n",
              "      <td>...</td>\n",
              "      <td>...</td>\n",
              "    </tr>\n",
              "    <tr>\n",
              "      <th>luciferase_CCTCTAGAGGATGGAACCGC</th>\n",
              "      <td>0.946178</td>\n",
              "      <td>0.096590</td>\n",
              "      <td>0.677018</td>\n",
              "    </tr>\n",
              "    <tr>\n",
              "      <th>luciferase_ACAACTTTACCGACCGCGCC</th>\n",
              "      <td>0.848203</td>\n",
              "      <td>2.029437</td>\n",
              "      <td>0.480288</td>\n",
              "    </tr>\n",
              "    <tr>\n",
              "      <th>luciferase_CTTGTCGTATCCCTGGAAGA</th>\n",
              "      <td>0.026328</td>\n",
              "      <td>-0.211952</td>\n",
              "      <td>0.432175</td>\n",
              "    </tr>\n",
              "    <tr>\n",
              "      <th>luciferase_GGCTATGAAGAGATACGCCC</th>\n",
              "      <td>-1.009470</td>\n",
              "      <td>-0.362730</td>\n",
              "      <td>0.462371</td>\n",
              "    </tr>\n",
              "    <tr>\n",
              "      <th>luciferase_GGCATGCGAGAATCTGACGC</th>\n",
              "      <td>-1.882511</td>\n",
              "      <td>-0.242103</td>\n",
              "      <td>-0.257839</td>\n",
              "    </tr>\n",
              "  </tbody>\n",
              "</table>\n",
              "<p>91320 rows × 3 columns</p>\n",
              "</div>"
            ],
            "text/plain": [
              "                                 A.18_8.lfc  B.18_8.lfc  C.18_8.lfc\n",
              "name                                                               \n",
              "A1BG_CACCTTCGAGCTGCTGCGCG         -0.341628   -1.623461   -0.351306\n",
              "A1BG_AAGAGCGCCTCGGTCCCAGC         -1.570917    0.017767    1.871582\n",
              "A1BG_TGGACTTCCAGCTACGGCGC         -0.060598    0.488223   -0.247264\n",
              "A1BG_CACTGGCGCCATCGAGAGCC         -0.279654    0.893945    0.169561\n",
              "A1BG_GCTCGGGCTTGTCCACAGGA          0.912812    1.240359    0.766479\n",
              "...                                     ...         ...         ...\n",
              "luciferase_CCTCTAGAGGATGGAACCGC    0.946178    0.096590    0.677018\n",
              "luciferase_ACAACTTTACCGACCGCGCC    0.848203    2.029437    0.480288\n",
              "luciferase_CTTGTCGTATCCCTGGAAGA    0.026328   -0.211952    0.432175\n",
              "luciferase_GGCTATGAAGAGATACGCCC   -1.009470   -0.362730    0.462371\n",
              "luciferase_GGCATGCGAGAATCTGACGC   -1.882511   -0.242103   -0.257839\n",
              "\n",
              "[91320 rows x 3 columns]"
            ]
          },
          "execution_count": 34,
          "metadata": {},
          "output_type": "execute_result"
        }
      ],
      "source": [
        "adata_t.log_fold_change_reps(18, 8, rep_col=\"replicate\", compare_col=\"time\")"
      ]
    },
    {
      "cell_type": "markdown",
      "metadata": {
        "id": "IlIkCVCa4_gV"
      },
      "source": [
        "Aggregate the LFCs based on `aggregate_fn [median, mean, sd]`."
      ]
    },
    {
      "cell_type": "code",
      "execution_count": 35,
      "metadata": {
        "id": "OpBvl2Ns38q-"
      },
      "outputs": [],
      "source": [
        "adata_t.log_fold_change_agg(8, 18, agg_col=\"replicate\", compare_col=\"time\", agg_fn = \"median\")"
      ]
    },
    {
      "cell_type": "code",
      "execution_count": 36,
      "metadata": {
        "colab": {
          "base_uri": "https://localhost:8080/",
          "height": 423
        },
        "id": "9usQ-rnzUAbW",
        "outputId": "3eb081c9-ef82-4f84-90bb-878566a1c1b9"
      },
      "outputs": [
        {
          "data": {
            "text/html": [
              "<div>\n",
              "<style scoped>\n",
              "    .dataframe tbody tr th:only-of-type {\n",
              "        vertical-align: middle;\n",
              "    }\n",
              "\n",
              "    .dataframe tbody tr th {\n",
              "        vertical-align: top;\n",
              "    }\n",
              "\n",
              "    .dataframe thead th {\n",
              "        text-align: right;\n",
              "    }\n",
              "</style>\n",
              "<table border=\"1\" class=\"dataframe\">\n",
              "  <thead>\n",
              "    <tr style=\"text-align: right;\">\n",
              "      <th></th>\n",
              "      <th>GENE</th>\n",
              "      <th>T08A</th>\n",
              "      <th>T18A_T08A.lfc</th>\n",
              "      <th>8_18.lfc.median</th>\n",
              "    </tr>\n",
              "    <tr>\n",
              "      <th>name</th>\n",
              "      <th></th>\n",
              "      <th></th>\n",
              "      <th></th>\n",
              "      <th></th>\n",
              "    </tr>\n",
              "  </thead>\n",
              "  <tbody>\n",
              "    <tr>\n",
              "      <th>A1BG_CACCTTCGAGCTGCTGCGCG</th>\n",
              "      <td>A1BG</td>\n",
              "      <td>310</td>\n",
              "      <td>-0.341628</td>\n",
              "      <td>0.351306</td>\n",
              "    </tr>\n",
              "    <tr>\n",
              "      <th>A1BG_AAGAGCGCCTCGGTCCCAGC</th>\n",
              "      <td>A1BG</td>\n",
              "      <td>46</td>\n",
              "      <td>-1.570917</td>\n",
              "      <td>-0.017767</td>\n",
              "    </tr>\n",
              "    <tr>\n",
              "      <th>A1BG_TGGACTTCCAGCTACGGCGC</th>\n",
              "      <td>A1BG</td>\n",
              "      <td>239</td>\n",
              "      <td>-0.060598</td>\n",
              "      <td>0.060598</td>\n",
              "    </tr>\n",
              "    <tr>\n",
              "      <th>A1BG_CACTGGCGCCATCGAGAGCC</th>\n",
              "      <td>A1BG</td>\n",
              "      <td>289</td>\n",
              "      <td>-0.279654</td>\n",
              "      <td>-0.169561</td>\n",
              "    </tr>\n",
              "    <tr>\n",
              "      <th>A1BG_GCTCGGGCTTGTCCACAGGA</th>\n",
              "      <td>A1BG</td>\n",
              "      <td>205</td>\n",
              "      <td>0.912812</td>\n",
              "      <td>-0.912812</td>\n",
              "    </tr>\n",
              "    <tr>\n",
              "      <th>...</th>\n",
              "      <td>...</td>\n",
              "      <td>...</td>\n",
              "      <td>...</td>\n",
              "      <td>...</td>\n",
              "    </tr>\n",
              "    <tr>\n",
              "      <th>luciferase_CCTCTAGAGGATGGAACCGC</th>\n",
              "      <td>luciferase</td>\n",
              "      <td>153</td>\n",
              "      <td>0.946178</td>\n",
              "      <td>-0.677018</td>\n",
              "    </tr>\n",
              "    <tr>\n",
              "      <th>luciferase_ACAACTTTACCGACCGCGCC</th>\n",
              "      <td>luciferase</td>\n",
              "      <td>159</td>\n",
              "      <td>0.848203</td>\n",
              "      <td>-0.848203</td>\n",
              "    </tr>\n",
              "    <tr>\n",
              "      <th>luciferase_CTTGTCGTATCCCTGGAAGA</th>\n",
              "      <td>luciferase</td>\n",
              "      <td>508</td>\n",
              "      <td>0.026328</td>\n",
              "      <td>-0.026328</td>\n",
              "    </tr>\n",
              "    <tr>\n",
              "      <th>luciferase_GGCTATGAAGAGATACGCCC</th>\n",
              "      <td>luciferase</td>\n",
              "      <td>97</td>\n",
              "      <td>-1.009470</td>\n",
              "      <td>0.362730</td>\n",
              "    </tr>\n",
              "    <tr>\n",
              "      <th>luciferase_GGCATGCGAGAATCTGACGC</th>\n",
              "      <td>luciferase</td>\n",
              "      <td>91</td>\n",
              "      <td>-1.882511</td>\n",
              "      <td>0.257839</td>\n",
              "    </tr>\n",
              "  </tbody>\n",
              "</table>\n",
              "<p>91320 rows × 4 columns</p>\n",
              "</div>"
            ],
            "text/plain": [
              "                                       GENE  T08A  T18A_T08A.lfc  \\\n",
              "name                                                               \n",
              "A1BG_CACCTTCGAGCTGCTGCGCG              A1BG   310      -0.341628   \n",
              "A1BG_AAGAGCGCCTCGGTCCCAGC              A1BG    46      -1.570917   \n",
              "A1BG_TGGACTTCCAGCTACGGCGC              A1BG   239      -0.060598   \n",
              "A1BG_CACTGGCGCCATCGAGAGCC              A1BG   289      -0.279654   \n",
              "A1BG_GCTCGGGCTTGTCCACAGGA              A1BG   205       0.912812   \n",
              "...                                     ...   ...            ...   \n",
              "luciferase_CCTCTAGAGGATGGAACCGC  luciferase   153       0.946178   \n",
              "luciferase_ACAACTTTACCGACCGCGCC  luciferase   159       0.848203   \n",
              "luciferase_CTTGTCGTATCCCTGGAAGA  luciferase   508       0.026328   \n",
              "luciferase_GGCTATGAAGAGATACGCCC  luciferase    97      -1.009470   \n",
              "luciferase_GGCATGCGAGAATCTGACGC  luciferase    91      -1.882511   \n",
              "\n",
              "                                 8_18.lfc.median  \n",
              "name                                              \n",
              "A1BG_CACCTTCGAGCTGCTGCGCG               0.351306  \n",
              "A1BG_AAGAGCGCCTCGGTCCCAGC              -0.017767  \n",
              "A1BG_TGGACTTCCAGCTACGGCGC               0.060598  \n",
              "A1BG_CACTGGCGCCATCGAGAGCC              -0.169561  \n",
              "A1BG_GCTCGGGCTTGTCCACAGGA              -0.912812  \n",
              "...                                          ...  \n",
              "luciferase_CCTCTAGAGGATGGAACCGC        -0.677018  \n",
              "luciferase_ACAACTTTACCGACCGCGCC        -0.848203  \n",
              "luciferase_CTTGTCGTATCCCTGGAAGA        -0.026328  \n",
              "luciferase_GGCTATGAAGAGATACGCCC         0.362730  \n",
              "luciferase_GGCATGCGAGAATCTGACGC         0.257839  \n",
              "\n",
              "[91320 rows x 4 columns]"
            ]
          },
          "execution_count": 36,
          "metadata": {},
          "output_type": "execute_result"
        }
      ],
      "source": [
        "adata_t.guides"
      ]
    },
    {
      "cell_type": "markdown",
      "metadata": {
        "id": "lmrMvljW5gIw"
      },
      "source": [
        "# Writing"
      ]
    },
    {
      "cell_type": "code",
      "execution_count": 37,
      "metadata": {
        "colab": {
          "base_uri": "https://localhost:8080/"
        },
        "id": "9qHVVUi75f1R",
        "outputId": "13e63c48-ac67-477b-9f78-882d6536f1a2"
      },
      "outputs": [
        {
          "name": "stdout",
          "output_type": "stream",
          "text": [
            "Writing to: Hela_lib1.xlsx\n",
            "\n",
            "\tSheet 1:\tX\n",
            "\tSheet 2:\tlognorm_counts\n",
            "\tSheet 3:\tguides\n",
            "\tSheet 4:\tsamples\n"
          ]
        }
      ],
      "source": [
        "adata.to_Excel(\"Hela_lib1.xlsx\")"
      ]
    },
    {
      "cell_type": "code",
      "execution_count": 38,
      "metadata": {
        "id": "7YwPo4tc5lDw"
      },
      "outputs": [],
      "source": [
        "adata.to_mageck_input(\"Hela_mageck_input.txt\", target_column=\"GENE\")"
      ]
    },
    {
      "cell_type": "code",
      "execution_count": 39,
      "metadata": {
        "colab": {
          "base_uri": "https://localhost:8080/"
        },
        "id": "SJlsyUieUcgi",
        "outputId": "a167dc60-2317-44dd-a851-e2e81d8c300e"
      },
      "outputs": [
        {
          "name": "stdout",
          "output_type": "stream",
          "text": [
            "sgRNA\tgene\tT08A\tT08B\tT08C\tT12A\tT12B\tT12C\tT15A\tT15B\tT15C\tT18A\tT18B\tT18C\tT0\n",
            "A1BG_CACCTTCGAGCTGCTGCGCG\tA1BG\t310\t226\t338\t356\t249\t224\t186\t60\t296\t125\t49\t296\t469\n",
            "A1BG_AAGAGCGCCTCGGTCCCAGC\tA1BG\t46\t1\t0\t7\t22\t142\t0\t1\t52\t0\t1\t52\t213\n",
            "A1BG_TGGACTTCCAGCTACGGCGC\tA1BG\t239\t216\t285\t117\t244\t116\t172\t298\t269\t119\t250\t269\t363\n",
            "A1BG_CACTGGCGCCATCGAGAGCC\tA1BG\t289\t83\t166\t164\t111\t14\t184\t160\t214\t122\t137\t214\t678\n",
            "A1BG_GCTCGGGCTTGTCCACAGGA\tA1BG\t205\t34\t217\t205\t148\t355\t326\t100\t432\t212\t85\t432\t559\n",
            "A1BG_CAAGAGAAAGACCACGAGCA\tA1BG\t389\t331\t468\t1074\t364\t158\t664\t286\t499\t464\t235\t499\t647\n",
            "A1CF_CGTGGCTATTTGGCATACAC\tA1CF\t452\t240\t390\t630\t509\t261\t471\t255\t301\t322\t210\t301\t898\n",
            "A1CF_GGTATACTCTCCTTGCAGCA\tA1CF\t71\t30\t29\t119\t155\t153\t131\t76\t56\t94\t61\t56\t199\n",
            "A1CF_GACATGGTATTGCAGTAGAC\tA1CF\t207\t227\t223\t118\t141\t173\t176\t198\t42\t118\t166\t42\t271\n"
          ]
        }
      ],
      "source": [
        "! head Hela_mageck_input.txt"
      ]
    }
  ],
  "metadata": {
    "colab": {
      "collapsed_sections": [],
      "provenance": []
    },
    "kernelspec": {
      "display_name": "jy_anbe_py38",
      "language": "python",
      "name": "jy_anbe_py38"
    },
    "language_info": {
      "codemirror_mode": {
        "name": "ipython",
        "version": 3
      },
      "file_extension": ".py",
      "mimetype": "text/x-python",
      "name": "python",
      "nbconvert_exporter": "python",
      "pygments_lexer": "ipython3",
      "version": "3.8.12"
    }
  },
  "nbformat": 4,
  "nbformat_minor": 0
}
